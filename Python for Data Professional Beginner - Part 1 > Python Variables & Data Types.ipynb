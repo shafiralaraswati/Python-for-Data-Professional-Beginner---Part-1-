{
 "cells": [
  {
   "cell_type": "code",
   "execution_count": 1,
   "id": "77cc0678",
   "metadata": {},
   "outputs": [
    {
     "name": "stdout",
     "output_type": "stream",
     "text": [
      "1\n",
      "4.0\n",
      "empat\n"
     ]
    }
   ],
   "source": [
    "#Sequence Type - List\n",
    "contoh_list = [1,'dua',3,4.0,5]\n",
    "print(contoh_list [0])\n",
    "print(contoh_list [3])\n",
    "contoh_list = [1,'dua',3,4.0,5]\n",
    "contoh_list[3] = 'empat'\n",
    "print(contoh_list[3])"
   ]
  },
  {
   "cell_type": "code",
   "execution_count": 2,
   "id": "b8981478",
   "metadata": {},
   "outputs": [
    {
     "name": "stdout",
     "output_type": "stream",
     "text": [
      "januari\n"
     ]
    }
   ],
   "source": [
    "#Sequence Type - Tuple\n",
    "contoh_tuple = ['januari','februari','maret','april']\n",
    "print(contoh_tuple[0])\n",
    "contoh_tuple = ['januari','februari','maret','april'] \n",
    "contoh_tuple[0] = 'desember'"
   ]
  },
  {
   "cell_type": "code",
   "execution_count": 3,
   "id": "bfe789f2",
   "metadata": {},
   "outputs": [
    {
     "name": "stdout",
     "output_type": "stream",
     "text": [
      "['Dewi', 'Budi', 'Cici', 'Linda', 'Cici']\n",
      "{'Cici', 'Budi', 'Dewi', 'Linda'}\n",
      "{'Cici', 'Budi', 'Dewi', 'Linda'}\n"
     ]
    }
   ],
   "source": [
    "#Set Type\n",
    "contoh_list = ['Dewi', 'Budi', 'Cici', 'Linda', 'Cici'] \n",
    "print(contoh_list)\n",
    "contoh_set = {'Dewi', 'Budi', 'Cici', 'Linda', 'Cici'} \n",
    "print(contoh_set)\n",
    "contoh_frozen_set = ({'Dewi', 'Budi', 'Cici', 'Linda', 'Cici'})\n",
    "print(contoh_frozen_set)"
   ]
  },
  {
   "cell_type": "code",
   "execution_count": 4,
   "id": "8d797867",
   "metadata": {},
   "outputs": [
    {
     "name": "stdout",
     "output_type": "stream",
     "text": [
      "John Doe\n",
      "programmer\n"
     ]
    }
   ],
   "source": [
    "#Mapping Type\n",
    "person = {'nama' : 'John Doe','pekerjaan': 'programmer'}\n",
    "print(person['nama'])\n",
    "print(person['pekerjaan'])"
   ]
  },
  {
   "cell_type": "markdown",
   "id": "791ea292",
   "metadata": {},
   "source": [
    "## Tugas Praktek\n",
    "Ternyata seru juga! Aku jadi berniat mengembangkan program kalkulator potongan harga ini untuk beberapa barang sekaligus agar lebih fungsional. Kalau begitu aku perlu rapikan dulu informasi setiap barang di tabel ini.\n",
    "\n",
    "“Lalu, aku tinggal merepresentasikan semuanya ke tipe data dictionary, dengan begitu akan lebih mudah mengolahnya,” gumamku.\n",
    "Aku pun mulai mendeklarasikan variabel sepatu, baju, dan celana untuk menampung informasi barang ke dalam live code editor.\n",
    "\n",
    "\n",
    "Nama Barang    Sepatu Niko   Baju Unikloh  Celana Lepis\n",
    "\n",
    "Harga          150000        80000          200000\n",
    "\n",
    "Diskon         30000         8000           60000\n",
    "\n",
    "Setelah berhasil merepresentasikan setiap barang ke dalam tipe data dictionary dengan variabel nama, harga, dan diskon, langkahku selanjutnya adalah: mendeklarasikan list dengan nama daftar_belanja yang berisi data sepatu, baju, dan celana. \n",
    "\n",
    "Dengan data yang aku miliki, aku bisa menghitung total harga jual dengan potongan harga dengan pajak sebesar 10% dari nilai jual. \n",
    "\n",
    "Untungnya Senja memberikan beberapa tips untuk menyelesaikan tugas ini:\n",
    "\n",
    "Tips 1. # Data yang dinyatakan ke dalam dictionary\n",
    "Tips 2. # Hitung harga masing-masing data setelah dikurangi diskon\n",
    "Tips 3. # Hitung harga total\n",
    "Tips 4. # Hitung harga kena pajak\n",
    "Tips 5. # Cetak total_harga + total_pajak"
   ]
  },
  {
   "cell_type": "code",
   "execution_count": 6,
   "id": "31478cd5",
   "metadata": {},
   "outputs": [
    {
     "name": "stdout",
     "output_type": "stream",
     "text": [
      "365200.0\n"
     ]
    }
   ],
   "source": [
    "#Tugas Praktek\n",
    "# Data yang dinyatakan ke dalam dictionary\n",
    "sepatu = {\"nama\": \"Sepatu Niko\", \"harga\": 150000, \"diskon\": 30000} \n",
    "baju = {\"nama\": \"Baju Unikloh\", \"harga\": 80000, \"diskon\": 8000} \n",
    "celana = {\"nama\": \"Celana Lepis\", \"harga\": 200000, \"diskon\": 60000}\n",
    "# Hitunglah harga masing-masing data setelah dikurangi diskon\n",
    "harga_sepatu = sepatu[\"harga\"] - sepatu[\"diskon\"]\n",
    "harga_baju = baju[\"harga\"] - baju[\"diskon\"]\n",
    "harga_celana = celana[\"harga\"] - celana[\"diskon\"]\n",
    "# Hitung harga total\n",
    "total_harga = harga_sepatu + harga_baju + harga_celana\n",
    "# Hitung harga kena pajak\n",
    "total_pajak = total_harga* 0.1\n",
    "# Cetak total_harga + total_pajak\n",
    "print(total_harga + total_pajak)"
   ]
  }
 ],
 "metadata": {
  "kernelspec": {
   "display_name": "Python 3",
   "language": "python",
   "name": "python3"
  },
  "language_info": {
   "codemirror_mode": {
    "name": "ipython",
    "version": 3
   },
   "file_extension": ".py",
   "mimetype": "text/x-python",
   "name": "python",
   "nbconvert_exporter": "python",
   "pygments_lexer": "ipython3",
   "version": "3.8.8"
  }
 },
 "nbformat": 4,
 "nbformat_minor": 5
}
