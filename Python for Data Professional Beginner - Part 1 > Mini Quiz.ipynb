{
 "cells": [
  {
   "cell_type": "markdown",
   "id": "b794945f",
   "metadata": {},
   "source": [
    "## Ekspedisi Pamanku\n",
    "Aku menyambar ponsel di meja dan membuka pesan singkat dari paman tempo hari yang menjelaskan jika paman harus mengeluarkan uang sebesar 1,5 juta per mobil dalam sehari. Tapi, beliau selalu kebingungan total pengeluaran per bulan karena adanya aturan ganjil-genap yang membuat pengoperasian mobil yang berbeda.\n",
    "\n",
    "“Kalau begitu, aku akan masukkan variabel jumlah_hari berisi jumlah hari dalam sebulan dan variabel list_plat_nomor berisi seluruh nomor plat mobil milik paman,” gumamku sendiri. Kalau seperti ini paman hanya perlu mengganti variabel jumlah_hari atau modifikasi variabel list_plat_nomor untuk melacak total pengeluaran paman selama sebulan. Ide Cemerlang!"
   ]
  },
  {
   "cell_type": "code",
   "execution_count": 2,
   "id": "9b1045f3",
   "metadata": {},
   "outputs": [
    {
     "name": "stdout",
     "output_type": "stream",
     "text": [
      "163500000\n"
     ]
    }
   ],
   "source": [
    "#Ekspedisi Pamanku\n",
    "# Data\n",
    "uang_jalan=1500000\n",
    "jumlah_hari=31\n",
    "list_plat_nomor = [8993, 2198, 2501, 2735, 3772, 4837, 9152]\n",
    "# Pengecekan kendaraan dengan nomor pelat ganjil atau genap \n",
    "kendaraan_genap = 0 \n",
    "kendaraan_ganjil = 0\n",
    "for plat_nomor in list_plat_nomor:\n",
    "    if plat_nomor % 2 == 0:\n",
    "        kendaraan_genap += 1 \n",
    "    else:\n",
    "        kendaraan_ganjil += 1\n",
    "# Total pengeluaran untuk kendaraan dengan nomor pelat ganjil \n",
    "# dan genap dalam 1 bulan\n",
    "i = 1\n",
    "total_pengeluaran = 0\n",
    "while i<=jumlah_hari:\n",
    "    if i%2==0:\n",
    "        total_pengeluaran+=(kendaraan_genap*uang_jalan)\n",
    "    else:\n",
    "        total_pengeluaran+=(kendaraan_ganjil*uang_jalan) \n",
    "    i+=1\n",
    "# Cetak total pengeluaran\n",
    "print(total_pengeluaran)"
   ]
  }
 ],
 "metadata": {
  "kernelspec": {
   "display_name": "Python 3",
   "language": "python",
   "name": "python3"
  },
  "language_info": {
   "codemirror_mode": {
    "name": "ipython",
    "version": 3
   },
   "file_extension": ".py",
   "mimetype": "text/x-python",
   "name": "python",
   "nbconvert_exporter": "python",
   "pygments_lexer": "ipython3",
   "version": "3.8.8"
  }
 },
 "nbformat": 4,
 "nbformat_minor": 5
}
